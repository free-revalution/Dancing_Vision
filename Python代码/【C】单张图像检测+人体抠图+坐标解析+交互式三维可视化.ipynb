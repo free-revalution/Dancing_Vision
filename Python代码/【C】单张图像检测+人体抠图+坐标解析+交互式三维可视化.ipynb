{
 "cells": [
  {
   "cell_type": "markdown",
   "id": "located-horse",
   "metadata": {},
   "source": [
    "B站：同济子豪兄（https://space.bilibili.com/1900783）\n",
    "\n",
    "微信公众号：人工智能小技巧\n",
    "\n",
    "张子豪 2021-07-12"
   ]
  },
  {
   "cell_type": "markdown",
   "id": "worth-flight",
   "metadata": {},
   "source": [
    "# 导入工具包"
   ]
  },
  {
   "cell_type": "code",
   "execution_count": 2,
   "id": "saved-yahoo",
   "metadata": {},
   "outputs": [],
   "source": [
    "# opencv-python\n",
    "import cv2\n",
    "\n",
    "# mediapipe人工智能工具包\n",
    "import mediapipe as mp\n",
    "\n",
    "# 进度条库\n",
    "from tqdm import tqdm\n",
    "\n",
    "# 时间库\n",
    "import time\n",
    "\n",
    "# 导入python绘图matplotlib\n",
    "import matplotlib.pyplot as plt\n",
    "# 使用ipython的魔法方法，将绘制出的图像直接嵌入在notebook单元格中\n",
    "%matplotlib inline"
   ]
  },
  {
   "cell_type": "code",
   "execution_count": 3,
   "id": "hollow-newark",
   "metadata": {},
   "outputs": [],
   "source": [
    "# 定义可视化图像函数\n",
    "def look_img(img):\n",
    "    '''opencv读入图像格式为BGR，matplotlib可视化格式为RGB，因此需将BGR转RGB'''\n",
    "    img_RGB = cv2.cvtColor(img, cv2.COLOR_BGR2RGB)\n",
    "    plt.imshow(img_RGB)\n",
    "    plt.show()"
   ]
  },
  {
   "cell_type": "markdown",
   "id": "protecting-gender",
   "metadata": {},
   "source": [
    "# 导入模型"
   ]
  },
  {
   "cell_type": "code",
   "execution_count": 4,
   "id": "sweet-surfing",
   "metadata": {},
   "outputs": [],
   "source": [
    "# 导入solution\n",
    "mp_pose = mp.solutions.pose\n",
    "\n",
    "# # 导入绘图函数\n",
    "mp_drawing = mp.solutions.drawing_utils \n",
    "\n",
    "# 导入模型\n",
    "pose = mp_pose.Pose(static_image_mode=True,        # 是静态图片还是连续视频帧\n",
    "                    model_complexity=2,            # 选择人体姿态关键点检测模型，0性能差但快，2性能好但慢，1介于两者之间\n",
    "                    smooth_landmarks=True,         # 是否平滑关键点\n",
    "                    enable_segmentation=True,      # 是否人体抠图\n",
    "                    min_detection_confidence=0.5,  # 置信度阈值\n",
    "                    min_tracking_confidence=0.5)   # 追踪阈值"
   ]
  },
  {
   "cell_type": "markdown",
   "id": "promotional-roller",
   "metadata": {},
   "source": [
    "# 读入图像，输入模型，获取预测结果"
   ]
  },
  {
   "cell_type": "code",
   "execution_count": 5,
   "id": "hungry-comfort",
   "metadata": {},
   "outputs": [],
   "source": [
    "# 从图片文件读入图像，opencv读入为BGR格式\n",
    "img = cv2.imread('person1.jfif')\n",
    "# img = cv2.imread('test.jpg')\n",
    "\n",
    "# BGR转RGB\n",
    "img_RGB = cv2.cvtColor(img, cv2.COLOR_BGR2RGB)\n",
    "\n",
    "# 将RGB图像输入模型，获取预测结果\n",
    "results = pose.process(img_RGB)"
   ]
  },
  {
   "cell_type": "code",
   "execution_count": 6,
   "id": "understanding-genesis",
   "metadata": {},
   "outputs": [
    {
     "data": {
      "text/plain": [
       "mediapipe.python.solution_base.SolutionOutputs"
      ]
     },
     "execution_count": 6,
     "metadata": {},
     "output_type": "execute_result"
    }
   ],
   "source": [
    "results"
   ]
  },
  {
   "cell_type": "markdown",
   "id": "crude-alarm",
   "metadata": {},
   "source": [
    "# 人体抠图结果"
   ]
  },
  {
   "cell_type": "code",
   "execution_count": 7,
   "id": "provincial-fossil",
   "metadata": {},
   "outputs": [],
   "source": [
    "mask = results.segmentation_mask"
   ]
  },
  {
   "cell_type": "code",
   "execution_count": 8,
   "id": "opposed-velvet",
   "metadata": {},
   "outputs": [
    {
     "data": {
      "text/plain": [
       "(1001, 666)"
      ]
     },
     "execution_count": 8,
     "metadata": {},
     "output_type": "execute_result"
    }
   ],
   "source": [
    "mask.shape"
   ]
  },
  {
   "cell_type": "code",
   "execution_count": 9,
   "id": "virgin-incidence",
   "metadata": {},
   "outputs": [
    {
     "data": {
      "text/plain": [
       "(1001, 666, 3)"
      ]
     },
     "execution_count": 9,
     "metadata": {},
     "output_type": "execute_result"
    }
   ],
   "source": [
    "img.shape"
   ]
  },
  {
   "cell_type": "code",
   "execution_count": 10,
   "id": "executed-vault",
   "metadata": {},
   "outputs": [
    {
     "data": {
      "text/plain": [
       "array([[0.0000000e+00, 0.0000000e+00, 0.0000000e+00, ..., 3.3182834e-10,\n",
       "        3.5952494e-10, 3.6695785e-10],\n",
       "       [0.0000000e+00, 0.0000000e+00, 0.0000000e+00, ..., 4.1810927e-10,\n",
       "        4.2693588e-10, 4.5637455e-10],\n",
       "       [0.0000000e+00, 0.0000000e+00, 0.0000000e+00, ..., 4.8412652e-10,\n",
       "        5.1414589e-10, 5.4764943e-10],\n",
       "       ...,\n",
       "       [2.9239874e-12, 2.9300577e-12, 2.9382529e-12, ..., 1.9332030e-15,\n",
       "        2.0534573e-15, 2.2196918e-15],\n",
       "       [2.9268753e-12, 2.9379123e-12, 2.9471712e-12, ..., 2.1476169e-15,\n",
       "        2.3171169e-15, 2.4478215e-15],\n",
       "       [2.9308283e-12, 2.9430904e-12, 2.9537974e-12, ..., 2.3988668e-15,\n",
       "        2.5027736e-15, 2.7167061e-15]], dtype=float32)"
      ]
     },
     "execution_count": 10,
     "metadata": {},
     "output_type": "execute_result"
    }
   ],
   "source": [
    "mask"
   ]
  },
  {
   "cell_type": "code",
   "execution_count": 11,
   "id": "wired-mapping",
   "metadata": {},
   "outputs": [],
   "source": [
    "mask = mask > 0.5"
   ]
  },
  {
   "cell_type": "code",
   "execution_count": 12,
   "id": "injured-crawford",
   "metadata": {},
   "outputs": [
    {
     "data": {
      "image/png": "[encoded data removed]",
      "text/plain": [
       "<Figure size 432x288 with 1 Axes>"
      ]
     },
     "metadata": {
      "needs_background": "light"
     },
     "output_type": "display_data"
    }
   ],
   "source": [
    "plt.imshow(mask)\n",
    "plt.show()"
   ]
  },
  {
   "cell_type": "code",
   "execution_count": 13,
   "id": "demanding-release",
   "metadata": {},
   "outputs": [],
   "source": [
    "import numpy as np\n",
    "\n",
    "# 单通道转三通道\n",
    "mask_3 = np.stack((mask,mask,mask), axis=-1)\n",
    "\n",
    "MASK_COLOR = [0,200,0]\n",
    "fg_image = np.zeros(img.shape, dtype=np.uint8)\n",
    "fg_image[:] = MASK_COLOR\n",
    "\n",
    "# 获得前景人像\n",
    "FG_img = np.where(mask_3, img, fg_image)\n",
    "\n",
    "# 获得抠掉前景人像的背景\n",
    "BG_img = np.where(~mask_3, img, fg_image)"
   ]
  },
  {
   "cell_type": "code",
   "execution_count": 14,
   "id": "colonial-chambers",
   "metadata": {},
   "outputs": [
    {
     "data": {
      "image/png": "[encoded data removed]",
      "text/plain": [
       "<Figure size 432x288 with 1 Axes>"
      ]
     },
     "metadata": {
      "needs_background": "light"
     },
     "output_type": "display_data"
    }
   ],
   "source": [
    "look_img(FG_img)"
   ]
  },
  {
   "cell_type": "code",
   "execution_count": 15,
   "id": "general-battery",
   "metadata": {},
   "outputs": [
    {
     "data": {
      "image/png": "[encoded data removed]",
      "text/plain": [
       "<Figure size 432x288 with 1 Axes>"
      ]
     },
     "metadata": {
      "needs_background": "light"
     },
     "output_type": "display_data"
    }
   ],
   "source": [
    "look_img(BG_img)"
   ]
  },
  {
   "cell_type": "markdown",
   "id": "molecular-tactics",
   "metadata": {},
   "source": [
    "# 所有关键点检测结果"
   ]
  },
  {
   "cell_type": "code",
   "execution_count": 16,
   "id": "relevant-friendly",
   "metadata": {
    "scrolled": true
   },
   "outputs": [
    {
     "data": {
      "text/plain": [
       "landmark {\n",
       "  x: 0.42978426814079285\n",
       "  y: 0.2802823781967163\n",
       "  z: -0.7078507542610168\n",
       "  visibility: 0.9999991655349731\n",
       "}\n",
       "landmark {\n",
       "  x: 0.4412020146846771\n",
       "  y: 0.2621484398841858\n",
       "  z: -0.6699750423431396\n",
       "  visibility: 0.999998927116394\n",
       "}\n",
       "landmark {\n",
       "  x: 0.4519912600517273\n",
       "  y: 0.26173391938209534\n",
       "  z: -0.669528603553772\n",
       "  visibility: 0.9999992847442627\n",
       "}\n",
       "landmark {\n",
       "  x: 0.4624840319156647\n",
       "  y: 0.2610827088356018\n",
       "  z: -0.6695629954338074\n",
       "  visibility: 0.9999991655349731\n",
       "}\n",
       "landmark {\n",
       "  x: 0.4066564738750458\n",
       "  y: 0.26363298296928406\n",
       "  z: -0.6556926369667053\n",
       "  visibility: 0.9999974966049194\n",
       "}\n",
       "landmark {\n",
       "  x: 0.39446163177490234\n",
       "  y: 0.26430657505989075\n",
       "  z: -0.6550707817077637\n",
       "  visibility: 0.9999935626983643\n",
       "}\n",
       "landmark {\n",
       "  x: 0.38137754797935486\n",
       "  y: 0.2653961479663849\n",
       "  z: -0.6568449139595032\n",
       "  visibility: 0.9999910593032837\n",
       "}\n",
       "landmark {\n",
       "  x: 0.4687594771385193\n",
       "  y: 0.2703929841518402\n",
       "  z: -0.4509894549846649\n",
       "  visibility: 0.9999942779541016\n",
       "}\n",
       "landmark {\n",
       "  x: 0.3624381721019745\n",
       "  y: 0.27397316694259644\n",
       "  z: -0.38215917348861694\n",
       "  visibility: 0.9999946355819702\n",
       "}\n",
       "landmark {\n",
       "  x: 0.44657576084136963\n",
       "  y: 0.2971709966659546\n",
       "  z: -0.623138427734375\n",
       "  visibility: 0.9999964237213135\n",
       "}\n",
       "landmark {\n",
       "  x: 0.4080928862094879\n",
       "  y: 0.3007059097290039\n",
       "  z: -0.603610634803772\n",
       "  visibility: 0.9999865293502808\n",
       "}\n",
       "landmark {\n",
       "  x: 0.5163943767547607\n",
       "  y: 0.36008256673812866\n",
       "  z: -0.4200543463230133\n",
       "  visibility: 0.9999924898147583\n",
       "}\n",
       "landmark {\n",
       "  x: 0.3324950933456421\n",
       "  y: 0.3841606676578522\n",
       "  z: -0.07442481815814972\n",
       "  visibility: 0.9990981817245483\n",
       "}\n",
       "landmark {\n",
       "  x: 0.6200001239776611\n",
       "  y: 0.4735395312309265\n",
       "  z: -0.46769076585769653\n",
       "  visibility: 0.9962891340255737\n",
       "}\n",
       "landmark {\n",
       "  x: 0.24507807195186615\n",
       "  y: 0.4759170711040497\n",
       "  z: -0.04791998490691185\n",
       "  visibility: 0.6803841590881348\n",
       "}\n",
       "landmark {\n",
       "  x: 0.7026411294937134\n",
       "  y: 0.5667277574539185\n",
       "  z: -0.615761935710907\n",
       "  visibility: 0.9961575865745544\n",
       "}\n",
       "landmark {\n",
       "  x: 0.14783835411071777\n",
       "  y: 0.39174750447273254\n",
       "  z: -0.23477572202682495\n",
       "  visibility: 0.9288597106933594\n",
       "}\n",
       "landmark {\n",
       "  x: 0.73600172996521\n",
       "  y: 0.5957058072090149\n",
       "  z: -0.6581936478614807\n",
       "  visibility: 0.9933843016624451\n",
       "}\n",
       "landmark {\n",
       "  x: 0.12317165732383728\n",
       "  y: 0.36717745661735535\n",
       "  z: -0.2635709047317505\n",
       "  visibility: 0.9288064241409302\n",
       "}\n",
       "landmark {\n",
       "  x: 0.7186833024024963\n",
       "  y: 0.5984992980957031\n",
       "  z: -0.7173395752906799\n",
       "  visibility: 0.9937859773635864\n",
       "}\n",
       "landmark {\n",
       "  x: 0.12478485703468323\n",
       "  y: 0.3592436611652374\n",
       "  z: -0.29112449288368225\n",
       "  visibility: 0.9310322403907776\n",
       "}\n",
       "landmark {\n",
       "  x: 0.6946762204170227\n",
       "  y: 0.5916408896446228\n",
       "  z: -0.6367877721786499\n",
       "  visibility: 0.989728569984436\n",
       "}\n",
       "landmark {\n",
       "  x: 0.13576766848564148\n",
       "  y: 0.3645034730434418\n",
       "  z: -0.2514267563819885\n",
       "  visibility: 0.9148370027542114\n",
       "}\n",
       "landmark {\n",
       "  x: 0.5273743867874146\n",
       "  y: 0.5835092067718506\n",
       "  z: -0.15221473574638367\n",
       "  visibility: 0.9994723200798035\n",
       "}\n",
       "landmark {\n",
       "  x: 0.39961275458335876\n",
       "  y: 0.5942893028259277\n",
       "  z: 0.1530231088399887\n",
       "  visibility: 0.9982237219810486\n",
       "}\n",
       "landmark {\n",
       "  x: 0.6785293817520142\n",
       "  y: 0.7415038347244263\n",
       "  z: -0.3785434663295746\n",
       "  visibility: 0.995824933052063\n",
       "}\n",
       "landmark {\n",
       "  x: 0.22660589218139648\n",
       "  y: 0.6978787779808044\n",
       "  z: 0.037218037992715836\n",
       "  visibility: 0.9249213337898254\n",
       "}\n",
       "landmark {\n",
       "  x: 0.9284799695014954\n",
       "  y: 0.8784339427947998\n",
       "  z: -0.39901331067085266\n",
       "  visibility: 0.997908353805542\n",
       "}\n",
       "landmark {\n",
       "  x: 0.32589003443717957\n",
       "  y: 0.8317400217056274\n",
       "  z: 0.3251795172691345\n",
       "  visibility: 0.9556770324707031\n",
       "}\n",
       "landmark {\n",
       "  x: 0.9778696894645691\n",
       "  y: 0.9033398628234863\n",
       "  z: -0.4140862226486206\n",
       "  visibility: 0.9474403262138367\n",
       "}\n",
       "landmark {\n",
       "  x: 0.36863553524017334\n",
       "  y: 0.8610047698020935\n",
       "  z: 0.3500322997570038\n",
       "  visibility: 0.8876402974128723\n",
       "}\n",
       "landmark {\n",
       "  x: 0.8506776094436646\n",
       "  y: 0.9323251247406006\n",
       "  z: -0.714231550693512\n",
       "  visibility: 0.9959210157394409\n",
       "}\n",
       "landmark {\n",
       "  x: 0.22763510048389435\n",
       "  y: 0.8811466693878174\n",
       "  z: 0.2289988249540329\n",
       "  visibility: 0.9693995714187622\n",
       "}"
      ]
     },
     "execution_count": 16,
     "metadata": {},
     "output_type": "execute_result"
    }
   ],
   "source": [
    "results.pose_landmarks"
   ]
  },
  {
   "cell_type": "code",
   "execution_count": 17,
   "id": "radio-trademark",
   "metadata": {},
   "outputs": [
    {
     "data": {
      "text/plain": [
       "frozenset({(0, 1),\n",
       "           (0, 4),\n",
       "           (1, 2),\n",
       "           (2, 3),\n",
       "           (3, 7),\n",
       "           (4, 5),\n",
       "           (5, 6),\n",
       "           (6, 8),\n",
       "           (9, 10),\n",
       "           (11, 12),\n",
       "           (11, 13),\n",
       "           (11, 23),\n",
       "           (12, 14),\n",
       "           (12, 24),\n",
       "           (13, 15),\n",
       "           (14, 16),\n",
       "           (15, 17),\n",
       "           (15, 19),\n",
       "           (15, 21),\n",
       "           (16, 18),\n",
       "           (16, 20),\n",
       "           (16, 22),\n",
       "           (17, 19),\n",
       "           (18, 20),\n",
       "           (23, 24),\n",
       "           (23, 25),\n",
       "           (24, 26),\n",
       "           (25, 27),\n",
       "           (26, 28),\n",
       "           (27, 29),\n",
       "           (27, 31),\n",
       "           (28, 30),\n",
       "           (28, 32),\n",
       "           (29, 31),\n",
       "           (30, 32)})"
      ]
     },
     "execution_count": 17,
     "metadata": {},
     "output_type": "execute_result"
    }
   ],
   "source": [
    "mp_pose.POSE_CONNECTIONS"
   ]
  },
  {
   "cell_type": "code",
   "execution_count": 18,
   "id": "regional-cardiff",
   "metadata": {},
   "outputs": [
    {
     "data": {
      "text/plain": [
       "x: 0.6200001239776611\n",
       "y: 0.4735395312309265\n",
       "z: -0.46769076585769653\n",
       "visibility: 0.9962891340255737"
      ]
     },
     "execution_count": 18,
     "metadata": {},
     "output_type": "execute_result"
    }
   ],
   "source": [
    "# 左胳膊肘关键点的归一化坐标\n",
    "results.pose_landmarks.landmark[mp_pose.PoseLandmark.LEFT_ELBOW]"
   ]
  },
  {
   "cell_type": "code",
   "execution_count": 19,
   "id": "passive-humidity",
   "metadata": {},
   "outputs": [
    {
     "data": {
      "text/plain": [
       "x: 0.6200001239776611\n",
       "y: 0.4735395312309265\n",
       "z: -0.46769076585769653\n",
       "visibility: 0.9962891340255737"
      ]
     },
     "execution_count": 19,
     "metadata": {},
     "output_type": "execute_result"
    }
   ],
   "source": [
    "# 左胳膊肘关键点的归一化坐标\n",
    "results.pose_landmarks.landmark[13]"
   ]
  },
  {
   "cell_type": "code",
   "execution_count": 20,
   "id": "judicial-yeast",
   "metadata": {},
   "outputs": [
    {
     "data": {
      "text/plain": [
       "0.6200001239776611"
      ]
     },
     "execution_count": 20,
     "metadata": {},
     "output_type": "execute_result"
    }
   ],
   "source": [
    "# 左胳膊肘关键点的归一化坐标\n",
    "results.pose_landmarks.landmark[13].x"
   ]
  },
  {
   "cell_type": "markdown",
   "id": "built-clarity",
   "metadata": {},
   "source": [
    "# 解析指定关键点的像素坐标"
   ]
  },
  {
   "cell_type": "code",
   "execution_count": 21,
   "id": "registered-second",
   "metadata": {},
   "outputs": [
    {
     "data": {
      "text/plain": [
       "(1001, 666, 3)"
      ]
     },
     "execution_count": 21,
     "metadata": {},
     "output_type": "execute_result"
    }
   ],
   "source": [
    "img.shape"
   ]
  },
  {
   "cell_type": "code",
   "execution_count": 22,
   "id": "animal-solomon",
   "metadata": {},
   "outputs": [],
   "source": [
    "h = img.shape[0]\n",
    "w = img.shape[1]"
   ]
  },
  {
   "cell_type": "code",
   "execution_count": 23,
   "id": "apparent-nomination",
   "metadata": {},
   "outputs": [
    {
     "data": {
      "text/plain": [
       "412.9200825691223"
      ]
     },
     "execution_count": 23,
     "metadata": {},
     "output_type": "execute_result"
    }
   ],
   "source": [
    "# 左胳膊肘关键点像素横坐标\n",
    "results.pose_landmarks.landmark[mp_pose.PoseLandmark.LEFT_ELBOW].x * w"
   ]
  },
  {
   "cell_type": "code",
   "execution_count": 24,
   "id": "aggregate-korean",
   "metadata": {},
   "outputs": [
    {
     "data": {
      "text/plain": [
       "474.01307076215744"
      ]
     },
     "execution_count": 24,
     "metadata": {},
     "output_type": "execute_result"
    }
   ],
   "source": [
    "# 左胳膊肘关键点像素纵坐标\n",
    "results.pose_landmarks.landmark[mp_pose.PoseLandmark.LEFT_ELBOW].y * h"
   ]
  },
  {
   "cell_type": "markdown",
   "id": "duplicate-deficit",
   "metadata": {},
   "source": [
    "# 解析指定关键点的真实物理（米）坐标"
   ]
  },
  {
   "cell_type": "code",
   "execution_count": 25,
   "id": "imperial-israel",
   "metadata": {},
   "outputs": [
    {
     "data": {
      "text/plain": [
       "x: -0.1029285416007042\n",
       "y: -0.5426493287086487\n",
       "z: -0.2707839012145996\n",
       "visibility: 0.9999991655349731"
      ]
     },
     "execution_count": 25,
     "metadata": {},
     "output_type": "execute_result"
    }
   ],
   "source": [
    "results.pose_world_landmarks.landmark[mp_pose.PoseLandmark.NOSE]"
   ]
  },
  {
   "cell_type": "code",
   "execution_count": 26,
   "id": "mysterious-research",
   "metadata": {},
   "outputs": [
    {
     "data": {
      "text/plain": [
       "x: 0.0797455683350563\n",
       "y: 0.009893214330077171\n",
       "z: -0.030796626582741737\n",
       "visibility: 0.9994723200798035"
      ]
     },
     "execution_count": 26,
     "metadata": {},
     "output_type": "execute_result"
    }
   ],
   "source": [
    "results.pose_world_landmarks.landmark[23]"
   ]
  },
  {
   "cell_type": "markdown",
   "id": "impressed-thesis",
   "metadata": {},
   "source": [
    "真实物理坐标的原点位于左右髋关节连线的中点（肚脐附近），详见论文。"
   ]
  },
  {
   "cell_type": "markdown",
   "id": "light-beijing",
   "metadata": {},
   "source": [
    "# 交互式三维可视化"
   ]
  },
  {
   "cell_type": "code",
   "execution_count": 27,
   "id": "chemical-working",
   "metadata": {},
   "outputs": [],
   "source": [
    "import numpy as np"
   ]
  },
  {
   "cell_type": "code",
   "execution_count": 28,
   "id": "toxic-condition",
   "metadata": {},
   "outputs": [],
   "source": [
    "coords = np.array(results.pose_landmarks.landmark)"
   ]
  },
  {
   "cell_type": "code",
   "execution_count": 29,
   "id": "major-marina",
   "metadata": {},
   "outputs": [
    {
     "data": {
      "text/plain": [
       "array([x: 0.42978426814079285\n",
       "       y: 0.2802823781967163\n",
       "       z: -0.7078507542610168\n",
       "       visibility: 0.9999991655349731, x: 0.4412020146846771\n",
       "                                       y: 0.2621484398841858\n",
       "                                       z: -0.6699750423431396\n",
       "                                       visibility: 0.999998927116394,\n",
       "       x: 0.4519912600517273\n",
       "       y: 0.26173391938209534\n",
       "       z: -0.669528603553772\n",
       "       visibility: 0.9999992847442627, x: 0.4624840319156647\n",
       "                                       y: 0.2610827088356018\n",
       "                                       z: -0.6695629954338074\n",
       "                                       visibility: 0.9999991655349731,\n",
       "       x: 0.4066564738750458\n",
       "       y: 0.26363298296928406\n",
       "       z: -0.6556926369667053\n",
       "       visibility: 0.9999974966049194, x: 0.39446163177490234\n",
       "                                       y: 0.26430657505989075\n",
       "                                       z: -0.6550707817077637\n",
       "                                       visibility: 0.9999935626983643,\n",
       "       x: 0.38137754797935486\n",
       "       y: 0.2653961479663849\n",
       "       z: -0.6568449139595032\n",
       "       visibility: 0.9999910593032837, x: 0.4687594771385193\n",
       "                                       y: 0.2703929841518402\n",
       "                                       z: -0.4509894549846649\n",
       "                                       visibility: 0.9999942779541016,\n",
       "       x: 0.3624381721019745\n",
       "       y: 0.27397316694259644\n",
       "       z: -0.38215917348861694\n",
       "       visibility: 0.9999946355819702, x: 0.44657576084136963\n",
       "                                       y: 0.2971709966659546\n",
       "                                       z: -0.623138427734375\n",
       "                                       visibility: 0.9999964237213135,\n",
       "       x: 0.4080928862094879\n",
       "       y: 0.3007059097290039\n",
       "       z: -0.603610634803772\n",
       "       visibility: 0.9999865293502808, x: 0.5163943767547607\n",
       "                                       y: 0.36008256673812866\n",
       "                                       z: -0.4200543463230133\n",
       "                                       visibility: 0.9999924898147583,\n",
       "       x: 0.3324950933456421\n",
       "       y: 0.3841606676578522\n",
       "       z: -0.07442481815814972\n",
       "       visibility: 0.9990981817245483, x: 0.6200001239776611\n",
       "                                       y: 0.4735395312309265\n",
       "                                       z: -0.46769076585769653\n",
       "                                       visibility: 0.9962891340255737,\n",
       "       x: 0.24507807195186615\n",
       "       y: 0.4759170711040497\n",
       "       z: -0.04791998490691185\n",
       "       visibility: 0.6803841590881348, x: 0.7026411294937134\n",
       "                                       y: 0.5667277574539185\n",
       "                                       z: -0.615761935710907\n",
       "                                       visibility: 0.9961575865745544,\n",
       "       x: 0.14783835411071777\n",
       "       y: 0.39174750447273254\n",
       "       z: -0.23477572202682495\n",
       "       visibility: 0.9288597106933594, x: 0.73600172996521\n",
       "                                       y: 0.5957058072090149\n",
       "                                       z: -0.6581936478614807\n",
       "                                       visibility: 0.9933843016624451,\n",
       "       x: 0.12317165732383728\n",
       "       y: 0.36717745661735535\n",
       "       z: -0.2635709047317505\n",
       "       visibility: 0.9288064241409302, x: 0.7186833024024963\n",
       "                                       y: 0.5984992980957031\n",
       "                                       z: -0.7173395752906799\n",
       "                                       visibility: 0.9937859773635864,\n",
       "       x: 0.12478485703468323\n",
       "       y: 0.3592436611652374\n",
       "       z: -0.29112449288368225\n",
       "       visibility: 0.9310322403907776, x: 0.6946762204170227\n",
       "                                       y: 0.5916408896446228\n",
       "                                       z: -0.6367877721786499\n",
       "                                       visibility: 0.989728569984436,\n",
       "       x: 0.13576766848564148\n",
       "       y: 0.3645034730434418\n",
       "       z: -0.2514267563819885\n",
       "       visibility: 0.9148370027542114, x: 0.5273743867874146\n",
       "                                       y: 0.5835092067718506\n",
       "                                       z: -0.15221473574638367\n",
       "                                       visibility: 0.9994723200798035,\n",
       "       x: 0.39961275458335876\n",
       "       y: 0.5942893028259277\n",
       "       z: 0.1530231088399887\n",
       "       visibility: 0.9982237219810486, x: 0.6785293817520142\n",
       "                                       y: 0.7415038347244263\n",
       "                                       z: -0.3785434663295746\n",
       "                                       visibility: 0.995824933052063,\n",
       "       x: 0.22660589218139648\n",
       "       y: 0.6978787779808044\n",
       "       z: 0.037218037992715836\n",
       "       visibility: 0.9249213337898254, x: 0.9284799695014954\n",
       "                                       y: 0.8784339427947998\n",
       "                                       z: -0.39901331067085266\n",
       "                                       visibility: 0.997908353805542,\n",
       "       x: 0.32589003443717957\n",
       "       y: 0.8317400217056274\n",
       "       z: 0.3251795172691345\n",
       "       visibility: 0.9556770324707031, x: 0.9778696894645691\n",
       "                                       y: 0.9033398628234863\n",
       "                                       z: -0.4140862226486206\n",
       "                                       visibility: 0.9474403262138367,\n",
       "       x: 0.36863553524017334\n",
       "       y: 0.8610047698020935\n",
       "       z: 0.3500322997570038\n",
       "       visibility: 0.8876402974128723, x: 0.8506776094436646\n",
       "                                       y: 0.9323251247406006\n",
       "                                       z: -0.714231550693512\n",
       "                                       visibility: 0.9959210157394409,\n",
       "       x: 0.22763510048389435\n",
       "       y: 0.8811466693878174\n",
       "       z: 0.2289988249540329\n",
       "       visibility: 0.9693995714187622], dtype=object)"
      ]
     },
     "execution_count": 29,
     "metadata": {},
     "output_type": "execute_result"
    }
   ],
   "source": [
    "coords"
   ]
  },
  {
   "cell_type": "code",
   "execution_count": 30,
   "id": "rational-gravity",
   "metadata": {},
   "outputs": [
    {
     "data": {
      "text/plain": [
       "33"
      ]
     },
     "execution_count": 30,
     "metadata": {},
     "output_type": "execute_result"
    }
   ],
   "source": [
    "len(coords)"
   ]
  },
  {
   "cell_type": "code",
   "execution_count": 31,
   "id": "alpha-gibson",
   "metadata": {},
   "outputs": [
    {
     "data": {
      "text/plain": [
       "0.42978426814079285"
      ]
     },
     "execution_count": 31,
     "metadata": {},
     "output_type": "execute_result"
    }
   ],
   "source": [
    "coords[0].x"
   ]
  },
  {
   "cell_type": "code",
   "execution_count": 32,
   "id": "decent-grammar",
   "metadata": {},
   "outputs": [],
   "source": [
    "# 在不用耗时循环的条件下，汇总所有点的XYZ坐标\n",
    "\n",
    "def get_x(each):\n",
    "    return each.x\n",
    "def get_y(each):\n",
    "    return each.y\n",
    "def get_z(each):\n",
    "    return each.z\n",
    "\n",
    "# 分别获取所有关键点的XYZ坐标\n",
    "points_x = np.array(list(map(get_x, coords)))\n",
    "points_y = np.array(list(map(get_y, coords)))\n",
    "points_z = np.array(list(map(get_z, coords)))\n",
    "\n",
    "# 将三个方向的坐标合并\n",
    "points = np.vstack((points_x, points_y, points_z)).T"
   ]
  },
  {
   "cell_type": "code",
   "execution_count": 33,
   "id": "continuous-starter",
   "metadata": {},
   "outputs": [
    {
     "data": {
      "text/plain": [
       "(33, 3)"
      ]
     },
     "execution_count": 33,
     "metadata": {},
     "output_type": "execute_result"
    }
   ],
   "source": [
    "points.shape"
   ]
  },
  {
   "cell_type": "code",
   "execution_count": 34,
   "id": "incoming-trade",
   "metadata": {},
   "outputs": [
    {
     "data": {
      "text/plain": [
       "array([[ 0.42978427,  0.28028238, -0.70785075],\n",
       "       [ 0.44120201,  0.26214844, -0.66997504],\n",
       "       [ 0.45199126,  0.26173392, -0.6695286 ],\n",
       "       [ 0.46248403,  0.26108271, -0.669563  ],\n",
       "       [ 0.40665647,  0.26363298, -0.65569264],\n",
       "       [ 0.39446163,  0.26430658, -0.65507078],\n",
       "       [ 0.38137755,  0.26539615, -0.65684491],\n",
       "       [ 0.46875948,  0.27039298, -0.45098945],\n",
       "       [ 0.36243817,  0.27397317, -0.38215917],\n",
       "       [ 0.44657576,  0.297171  , -0.62313843],\n",
       "       [ 0.40809289,  0.30070591, -0.60361063],\n",
       "       [ 0.51639438,  0.36008257, -0.42005435],\n",
       "       [ 0.33249509,  0.38416067, -0.07442482],\n",
       "       [ 0.62000012,  0.47353953, -0.46769077],\n",
       "       [ 0.24507807,  0.47591707, -0.04791998],\n",
       "       [ 0.70264113,  0.56672776, -0.61576194],\n",
       "       [ 0.14783835,  0.3917475 , -0.23477572],\n",
       "       [ 0.73600173,  0.59570581, -0.65819365],\n",
       "       [ 0.12317166,  0.36717746, -0.2635709 ],\n",
       "       [ 0.7186833 ,  0.5984993 , -0.71733958],\n",
       "       [ 0.12478486,  0.35924366, -0.29112449],\n",
       "       [ 0.69467622,  0.59164089, -0.63678777],\n",
       "       [ 0.13576767,  0.36450347, -0.25142676],\n",
       "       [ 0.52737439,  0.58350921, -0.15221474],\n",
       "       [ 0.39961275,  0.5942893 ,  0.15302311],\n",
       "       [ 0.67852938,  0.74150383, -0.37854347],\n",
       "       [ 0.22660589,  0.69787878,  0.03721804],\n",
       "       [ 0.92847997,  0.87843394, -0.39901331],\n",
       "       [ 0.32589003,  0.83174002,  0.32517952],\n",
       "       [ 0.97786969,  0.90333986, -0.41408622],\n",
       "       [ 0.36863554,  0.86100477,  0.3500323 ],\n",
       "       [ 0.85067761,  0.93232512, -0.71423155],\n",
       "       [ 0.2276351 ,  0.88114667,  0.22899882]])"
      ]
     },
     "execution_count": 34,
     "metadata": {},
     "output_type": "execute_result"
    }
   ],
   "source": [
    "points"
   ]
  },
  {
   "cell_type": "code",
   "execution_count": 35,
   "id": "animal-dividend",
   "metadata": {},
   "outputs": [],
   "source": [
    "import open3d\n",
    "point_cloud = open3d.PointCloud()\n",
    "point_cloud.points = open3d.Vector3dVector(points)\n",
    "open3d.draw_geometries([point_cloud])"
   ]
  },
  {
   "cell_type": "code",
   "execution_count": null,
   "id": "thirty-sauce",
   "metadata": {},
   "outputs": [],
   "source": []
  },
  {
   "cell_type": "code",
   "execution_count": null,
   "id": "outstanding-interval",
   "metadata": {},
   "outputs": [],
   "source": []
  }
 ],
 "metadata": {
  "kernelspec": {
   "display_name": "Python 3",
   "language": "python",
   "name": "python3"
  },
  "language_info": {
   "codemirror_mode": {
    "name": "ipython",
    "version": 3
   },
   "file_extension": ".py",
   "mimetype": "text/x-python",
   "name": "python",
   "nbconvert_exporter": "python",
   "pygments_lexer": "ipython3",
   "version": "3.7.2"
  }
 },
 "nbformat": 4,
 "nbformat_minor": 5
}
